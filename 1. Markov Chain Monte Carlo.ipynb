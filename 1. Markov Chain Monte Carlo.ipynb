{
 "cells": [
  {
   "cell_type": "markdown",
   "metadata": {},
   "source": [
    "<p float=\"left\">\n",
    "  <img style=\"float: right;\" src=\"./imgs/logo1.png\" width=\"100\" />\n",
    "  <img style=\"float: left;\" src=\"./imgs/ipa.png\" width=\"300\" /> \n",
    "</p>"
   ]
  },
  {
   "cell_type": "markdown",
   "metadata": {},
   "source": [
    "<img src=\"./imgs/div.png\" width=\"100%\" /> "
   ]
  },
  {
   "cell_type": "markdown",
   "metadata": {},
   "source": [
    " \n",
    "# 1. Markov Chain Monte Carlo Methode\n",
    "1.1 Einführung: Modellierung eines <span style=\"color:#179c80\"><b>Münzwurfs</b></span> <br>\n",
    "1.2 <span style=\"color:#179c80\"><b>Monte Carlo</b></span> Experiment <br>\n",
    "1.3 Markov Chain Monte Carlo: <span style=\"color:#179c80\"><b>Random Walk</b></span> <br>\n",
    "1.4 Markov Chain Monte Carlo: <span style=\"color:#179c80\"><b>Metropolis-Hastings</b></span> Algorithmus <br>\n",
    "1.5 MCMC and <span style=\"color:#179c80\"><b>Bayes'sche Neuronale Netze</b></span>\n",
    "\n",
    "## 1.1 Einführung: Modellierung eines Münzwurfs\n",
    "Unser <span style=\"color:#179c80\"><b>Ziel</b></span> ist die Berechnung der Wahrscheinlichkeit des Events <span style=\"color:#db8642\">Kopf</span> eines Münzwurfs, unter Berücksichtigung von Daten. Formell sind wir also an $p(\\text{Kopf}|\\text{Daten})$ bzw. $p(\\theta|y)$ interessiert. Um Daten sammeln gehen wir davon aus, dass wir die Münze <span style=\"color:#db8642\">zehn</span> mal geworfen haben und dabei <span style=\"color:#db8642\">sechs</span> mal <span style=\"color:#db8642\">Zahl</span> und <span style=\"color:#db8642\">vier</span> mal <span style=\"color:#db8642\">Kopf</span> aufgetaucht ist. Als  <span style=\"color:#179c80\"><b>Likelihood</b></span> bietet es sich deshalb ein eine <span style=\"color:#db8642\">Binomial</span> Verteilung zu verwenden:\n",
    "\n",
    "$$p(y|\\theta) =  {\\text{Binomial}(n, y)},$$ \n",
    "mit $n=10$ und $y=4$. \n",
    "\n",
    "<br>\n",
    "\n",
    "Fehlt noch der <span style=\"color:#179c80\"><b>Pior</b></span>. Einfachheitshalber nehmen wir im folgenden Experiment einen sogenannten <span style=\"color:#db8642\">uninformative</span> Prior an, d.h. wir haben kein konkretes vorheriges Wissen über unsere Zielverteilung. Dies können wir mithilfe der folgenden <span style=\"color:#db8642\">Beta</span> Verteilung ausdrücken:\n",
    "\n",
    "$$p(\\theta)={\\text{Beta}(\\alpha,\\beta)},$$ \n",
    "mit $\\alpha=\\beta=1$.\n",
    "\n",
    "<br>\n",
    "\n",
    "Da die Beta Verteilung ein <span style=\"color:#db8642\">conjugate</span>  Prior zur Binomial Verteilung ist, ist die <span style=\"color:#179c80\"><b>Posterior</b></span> Verteilung ebenfalls Beta-verteilt und die entsprechenden Parameter lassen sich analytisch exakt berechnen: \n",
    "\n",
    "$$p(\\theta|y) \\sim \\text{Beta}( \\alpha + y, n - y + \\beta) = \\text{Beta}(5, 7)$$\n",
    "\n",
    "Das bedeuted, dass wir für diesen speziellen Fall kein MCMC-Verfahren benötigen, da die Posterior-Verteilung <span style=\"color:#db8642\">analytisch exakt</span> berechnet werden kann. Zum besseren Verständis von  <span style=\"color:#179c80\"><b>Markov Chain Monte Carlo</b></span> (MCMC) Methoden  versuchen wir dennoch die exakte Posterior mithilfe des <span style=\"color:#179c80\"><b>Metropolis-Hastings</b></span> Algorithmus anzunähern. Zunächst sollte jedoch das Zusammenspiel von Prior, Likelihood und Posterior verstanden werden."
   ]
  },
  {
   "cell_type": "markdown",
   "metadata": {},
   "source": [
    "  <div class=\"alert alert-block alert-info\" style=\"border-color:white\">\n",
    "    <b>Aufgabe</b>: Betrachten Sie folgende Animation über den Einfluss der Prior auf die Posterior Verteilung. Was fällt Ihnen bei einem Prior von \n",
    "$p(\\theta) =  {\\text{Beta}(1,1)}$ auf? Wie verändert sich dies für größere $\\alpha$ und $\\beta$ Werte? Nehmen Sie dabei Bezug auf die Begriffe <em>uninformative</em> und <em>informative</em>.\n",
    "</div>\n",
    "<img src=\"./imgs/line.gif\" width=\"400\" height=\"400\" />"
   ]
  },
  {
   "cell_type": "markdown",
   "metadata": {},
   "source": [
    "> <b>Antwort</b>: ..."
   ]
  },
  {
   "cell_type": "markdown",
   "metadata": {
    "heading_collapsed": true
   },
   "source": [
    "###### <div class=\"alert alert-block alert-success\" style=\"background-color:#b6dad2;color:#179c80;border-color:white\"> <b>Lösung</b> <small style=\"color:#179c80\">(Klicken auf den Pfeil um die Lösung aufzuklappen)</small></span></div>"
   ]
  },
  {
   "cell_type": "markdown",
   "metadata": {
    "hidden": true
   },
   "source": [
    "> Der Prior <em>Beta(1,1)</em> ordnet <span style=\"color:#db8642\">allen</span> Möglichkeiten  den Wert <span style=\"color:#db8642\">eins</span> zu. Setzt man dies in die Bayes' Regel ein, so ist es nur logisch, dass die Likelihood und resultierende Posterior Verteilung die gleiche Form besitzen.  Dies ist ein wichtiges Merkmal des Bayes'schen Grundgedankens: die Posterior-Verteilung ist in der Regel <span style=\"color:#db8642\">äquivalent</span> (oder proportional) zur Likelihood-Funktion, wenn wir völlig <span style=\"color:#db8642\">uninformative</span> Prior Verteilungen verwenden.\n",
    "<br>\n",
    "\n",
    "> Für größere Parameterwerte der Beta Verteilung kodiert der Prior zunehmend mehr <span style=\"color:#db8642\">Informationen</span>, weshalb die Posterior stärker vom Prior beeinflusst wird. Besitzen wir also einen <span style=\"color:#db8642\">vorherigen</span> Glauben über die Zielverteilung, so können wir diese Überzeugung mithilfe eines  <span style=\"color:#db8642\">informative</span>  Prior ausdrücken - je stärker dieser Glauben, desto weniger Einfluss haben die Daten auf die Posterior Verteilung ."
   ]
  },
  {
   "cell_type": "markdown",
   "metadata": {},
   "source": [
    "#####  \n",
    "<img src=\"./imgs/div.png\" width=\"100%\" /> "
   ]
  },
  {
   "cell_type": "markdown",
   "metadata": {},
   "source": [
    " \n",
    "## 1.2 Monte Carlo Experiment\n",
    "Der Metropolis-Hastings Algorithmus ordnet sich in die Reihe der <span style=\"color:#179c80\"><b>Markov Chain Monte Carlo</b> </span> Methoden ein. Bevor wir also mit dessen Implementierung beginnen können, müssen zunächst zwei Begriffe erläutert werden. In diesem Kapitel soll es um <span style=\"color:#179c80\"><b>Monte Carlo</b> </span> Methoden im Allgemeinen gehen.\n",
    "\n",
    "Bei <span style=\"color:#179c80\"><b>Monte Carlo</b> </span> Verfahren werden Stichproben einer Verteilunge, auch <span style=\"color:#db8642\">Samples</span> genannt, wiederholt <span style=\"color:#179c80\"><b>zufällig</b> </span> gezogen. Die Verteilung, mit der pro Iteration neue Stichproben gezogen werden, wird üblicherweise <span style=\"color:#179c80\"><b>Proposal Distribution</b></span> genannt. Mithilfe der gezogen Samples kann dann versucht werden <span style=\"color:#db8642\">analytisch nicht</span> (oder nur sehr aufwendig) lösbare Problem zu <span style=\"color:#db8642\">lösen</span>. \n",
    "In einem ersten Experiment soll es nun darum gehen, eine sample-basierte Repräsentation einer Gauß-Verteilung zu berechnen.\n",
    "\n",
    "\n",
    "\n",
    "\n",
    "<div class=\"alert alert-block alert-info\" style=\"border-color:white\">\n",
    "    <b>Aufgabe</b>: Ziehen Sie <em>num_samples</em> einer konstanten Gauß Proposal Distribution mit $\\mu=$ <em>self.mu</em> und $\\sigma=$ <em>self.sigma</em>. Anschließend konvertieren Sie das Ergebnis zu einer <em>list</em> und fügen es <em>self.samples</em> hinzu. Ihren Code fügen Sie bitte in die folgende <em>do_step</em> Methode ein.\n",
    "</div>\n",
    "\n",
    "<div class=\"alert alert-block alert-warning\" style=\"background-color:#f2decc\n",
    ";border-color:white\">\n",
    "    <b>Hilfreiche Funktionen</b>: \n",
    "    <ul>\n",
    "        <li> <em>np.random.normal($\\mu$, $\\sigma$, size)</em> </li>\n",
    "    <li> <em>.tolist()</em></li>\n",
    "    </ul>\n",
    "</div>\n",
    "\n",
    "<div class=\"alert alert-block alert-danger\" style=\"border-color:white\">\n",
    "    <b>Wichtig!</b>: Bei Änderungen der <em>do_step</em> Methode, führen Sie die <b>drei</b> nachfolgenden Zellen erneut aus. \n",
    "</div>"
   ]
  },
  {
   "cell_type": "code",
   "execution_count": 1,
   "metadata": {
    "code_folding": [
     0
    ]
   },
   "outputs": [],
   "source": [
    "# Definition der Grundklasse und GUI Elemente [keine Änderung notwendig]\n",
    "# imports\n",
    "import ipywidgets as widgets\n",
    "from ipywidgets import IntProgress\n",
    "from IPython.display import display\n",
    "from IPython.display import clear_output\n",
    "import ipywidgets\n",
    "from ipywidgets import HBox, VBox, RadioButtons, Layout\n",
    "import matplotlib.pyplot as plt\n",
    "import seaborn as sbn\n",
    "from scipy.stats import beta, binom, norm\n",
    "import numpy as np\n",
    "from ipywidgets import *\n",
    "from helper.debounce import debounce\n",
    "import numpy as np\n",
    "import ipywidgets as widgets\n",
    "from IPython.display import clear_output, display\n",
    "\n",
    "import matplotlib.pyplot as plt\n",
    "from IPython.display import set_matplotlib_formats\n",
    "%matplotlib inline\n",
    "import math\n",
    "import jdc\n",
    "mu_label = widgets.Label(value=\"Mittelwert $\\mu$:\")\n",
    "mu_var = widgets.FloatSlider(value=0.5, min=0, max=1, step=0.1)\n",
    "sigma_label = widgets.Label(value=\"Standardabweichung $\\sigma$:\")\n",
    "sigma_var = widgets.FloatSlider(value=1, min=0, max=1, step=0.1)\n",
    "samples_label = widgets.Label(value=\"Anzahl Samples:\")\n",
    "samples_var = widgets.IntSlider(value=10, min=1, max=1000, step=20)\n",
    "btn = widgets.Button(description=\"Start\")\n",
    "btn2 = widgets.Button(description=\"Reset\")\n",
    "dr_label = widgets.Label(value=\"Samples pro Schritt\", width='10px')\n",
    "dr = widgets.Dropdown(\n",
    "    options=['1', '10', '100'],\n",
    "    value='1',\n",
    "    disabled=False, layout=Layout(width=\"50px\")\n",
    ")\n",
    "out = widgets.Output()\n",
    "\n",
    "class MC_Sampler():\n",
    "    def __init__(self, out):\n",
    "        np.random.seed(42)\n",
    "        self.out = out\n",
    "        self.samples = []\n",
    "        self.started = []\n",
    "        self.mu, self.sigma, self.fig, self.ax = None, None, None, None\n",
    "        with self.out:\n",
    "            self.init_plot(\"?\", \"?\", 0)\n",
    "            plt.show(self.fig)\n",
    "    def init_plot(self, mu, sigma, num_samples):\n",
    "        sbn.set()\n",
    "        self.fig, self.ax = plt.subplots(nrows=1, ncols=2, figsize=(10, 3))\n",
    "        self.ax[0].set_ylabel(r\"$\\theta$\")\n",
    "        self.ax[1].set_xlabel(r\"$\\theta$\")\n",
    "        self.ax[0].set_title(fr\"Aktuelle Proposal Distribution: $\\mu=${mu}, $\\sigma$={sigma}\")\n",
    "        self.ax[1].set_title(fr\"Histogram über {num_samples} Sample\")\n",
    "        plt.subplots_adjust(wspace=0.4)\n",
    "    \n",
    "    def reset(self, btnn):\n",
    "        self.started = False\n",
    "        mu_var.disabled = False\n",
    "        sigma_var.disabled = False\n",
    "        btn.description=\"Start\"\n",
    "        self.samples = []\n",
    "        self.mu, self.sigma = None, None\n",
    "        with self.out:\n",
    "            clear_output(wait=True)\n",
    "            self.init_plot(\"?\", \"?\", 0)\n",
    "            plt.show(self.fig) \n",
    "    \n",
    "    def init_step(self):\n",
    "        if self.mu is None:\n",
    "            self.mu = mu_var.value\n",
    "            self.sigma = sigma_var.value\n",
    "\n",
    "        num_samples = dr.value\n",
    "        btn.description=\"Next\"\n",
    "\n",
    "        if not self.started:\n",
    "            mu_var.disabled = True\n",
    "            sigma_var.disabled = True\n",
    "            self.started = False\n",
    "        return int(num_samples)\n",
    "    \n",
    "    def plot(self):\n",
    "        if len(self.samples)>0:     \n",
    "            self.ax[0].plot(np.arange(len(self.samples)), self.samples)\n",
    "            count, bins, ignored = self.ax[1].hist(self.samples, 30, density=False)\n",
    "            self.ax[0].plot(len(self.samples)-1, self.samples[-1], linestyle=\"none\", marker=\".\", markersize=5)\n",
    "        else:\n",
    "            print(\"Noch keine Samples erzeugt.\")\n",
    "        clear_output(wait=True)\n",
    "        plt.show(self.fig) # [keine Änderung notwendig]"
   ]
  },
  {
   "cell_type": "code",
   "execution_count": 2,
   "metadata": {
    "code_folding": []
   },
   "outputs": [],
   "source": [
    "%%add_to MC_Sampler\n",
    "def do_step(self, btn):       \n",
    "    num_samples = self.init_step()\n",
    "\n",
    "    with self.out:\n",
    "        self.init_plot(self.mu, self.sigma, len(self.samples)+num_samples)\n",
    "\n",
    "        #self.samples += ...\n",
    "\n",
    "        self.plot()        "
   ]
  },
  {
   "cell_type": "code",
   "execution_count": 3,
   "metadata": {
    "code_folding": [
     0
    ]
   },
   "outputs": [
    {
     "data": {
      "application/vnd.jupyter.widget-view+json": {
       "model_id": "ad1f27347b63424280fd74534a0e162a",
       "version_major": 2,
       "version_minor": 0
      },
      "text/plain": [
       "HBox(children=(VBox(children=(Label(value='Mittelwert $\\\\mu$:'), FloatSlider(value=0.5, max=1.0), Label(value=…"
      ]
     },
     "metadata": {},
     "output_type": "display_data"
    }
   ],
   "source": [
    "# Starten der GUI [keine Änderung notwendig] \n",
    "MC_Sampler.do_step = do_step\n",
    "mc_sampler = MC_Sampler(out=out)\n",
    "btn.on_click(mc_sampler.do_step)\n",
    "btn2.on_click(mc_sampler.reset)\n",
    "widgets.HBox([widgets.VBox([mu_label, mu_var, sigma_label, sigma_var, widgets.HBox([widgets.VBox([btn, btn2]), widgets.VBox([dr_label, dr])])]), out]) # [keine Änderung notwendig]"
   ]
  },
  {
   "cell_type": "markdown",
   "metadata": {
    "heading_collapsed": true
   },
   "source": [
    "###### <div class=\"alert alert-block alert-success\" style=\"background-color:#b6dad2;color:#179c80;border-color:white\"> <b>Lösung</b> <small style=\"color:#179c80\">(Klicken auf den Pfeil um die Lösung aufzuklappen)</small></span></div>"
   ]
  },
  {
   "cell_type": "code",
   "execution_count": 8,
   "metadata": {
    "code_folding": [],
    "deletable": false,
    "editable": false,
    "hidden": true,
    "run_control": {
     "frozen": true
    }
   },
   "outputs": [],
   "source": [
    "%%add_to MC_Sampler\n",
    "def do_step(self, btn):       \n",
    "    num_samples = self.init_step()\n",
    "\n",
    "    with self.out:\n",
    "        self.init_plot(self.mu, self.sigma, len(self.samples)+num_samples)\n",
    "\n",
    "        self.samples  += np.random.normal(self.mu, self.sigma, num_samples).tolist()\n",
    "\n",
    "        self.plot()  "
   ]
  },
  {
   "cell_type": "markdown",
   "metadata": {},
   "source": [
    "#### \n",
    "<img src=\"./imgs/div.png\" width=\"100%\" /> "
   ]
  },
  {
   "cell_type": "markdown",
   "metadata": {},
   "source": [
    " \n",
    "## 1.3 Markov Chain Monte Carlo Experiment: Random Walk\n",
    "Nun wissen wir, was ein Monte Carlo Verfahren ist - bleibt noch der Begriff <span style=\"color:#179c80\"><b>Markov Chain</b> </span> offen.\n",
    "\n",
    "Eine <span style=\"color:#179c80\"><b>Markov Chain</b> </span> ist ein stochastischer Prozess, welcher eine <span style=\"color:#db8642\">Folge</span> möglicher Ereignisse beschreibt. Charakteristisch hierbei ist, dass  die Wahrscheinlichkeit <span style=\"color:#db8642\">jedes</span> Ereignisses \n",
    "vom <span style=\"color:#db8642\">vorangegangenen</span> Zustand <span style=\"color:#179c80\"><b>abhängig</b> </span> ist - sozusagen wie ein <span style=\"color:#db8642\">kurzes Gedächtnis</span>. Alle davor liegenden Werte besitzen <span style=\"color:#db8642\">keinen</span> Einfluss. \n",
    "\n",
    "<br>\n",
    "Wie können wir nun das vorherige Monte Carlo Experiment zu einer <span style=\"color:#179c80\"><b>Markov Chain</b> </span> erweitern? Die Idee ist recht simpel. Anstatt in jeder Iteration zufällig ein Sample von der gleichen Proposal Distribution zu ziehen, gestalten wir das Ziehen von Samples <span style=\"color:#db8642\">abhängig</span> vom vorangegangenen Sample, indem wir die Proposal Distribution in jeder Iteration anpassen.\n",
    "\n",
    "\n",
    "<div class=\"alert alert-block alert-info\"  style=\"border-color:white\">\n",
    "    <b>Aufgabe</b>: Ziehen Sie insgesamt <em>num_samples</em> von einer Normalverteilung, bei welcher  $\\mu$ dem zuvor gewählten Sample entspricht, also <em>self.mu = self.samples[-1]</em>. Das Verfahren ist dementsprechend iterativ zu implementieren. $\\sigma$ bleibt konstant. Anschließend konvertieren Sie das Ergebnis zu einer <em>list</em> und fügen es <em>self.samples</em> hinzu. \n",
    "</div>\n",
    "\n",
    "<div class=\"alert alert-block alert-warning\" style=\"background-color:#f2decc\n",
    ";border-color:white\">\n",
    "    <b>Wichtige Klassenattribute</b>: \n",
    "    <ul>\n",
    "        <li> <em>num_samples</em>: enthält die Anzahl der Samples, welche im aktuellen Schritt gezogen werden sollen </li>\n",
    "    <li> <em>self.samples</em>: fortlaufende Liste mit den gezogenen Samples </li>\n",
    "        <li> <em>self.mu, self.sigma</em>: Momente der Proposal Distribution </li>\n",
    "    </ul>\n",
    "</div>\n",
    "<div class=\"alert alert-block alert-danger\" style=\"border-color:white\">\n",
    "    <b>Wichtig!</b>: Bei Änderungen der <em>do_step</em> Methode, führen Sie die <b>drei</b> nachfolgenden Zellen erneut aus. \n",
    "</div>"
   ]
  },
  {
   "cell_type": "code",
   "execution_count": 4,
   "metadata": {
    "code_folding": [
     0
    ]
   },
   "outputs": [],
   "source": [
    "# Definition der Grundklasse und GUI Elemente [keine Änderung notwendig]\n",
    "\n",
    "mu_label = widgets.Label(value=\"Mittelwert $\\mu$:\")\n",
    "mu_var = widgets.FloatSlider(value=0.5, min=0, max=1, step=0.1)\n",
    "sigma_label = widgets.Label(value=\"Standardabweichung $\\sigma$:\")\n",
    "sigma_var = widgets.FloatSlider(value=1, min=0, max=1, step=0.1)\n",
    "samples_label = widgets.Label(value=\"Anzahl Samples:\")\n",
    "samples_var = widgets.IntSlider(value=10, min=1, max=1000, step=20)\n",
    "btn = widgets.Button(description=\"Start\")\n",
    "btn2 = widgets.Button(description=\"Reset\")\n",
    "dr_label = widgets.Label(value=\"Samples pro Schritt\", width='10px')\n",
    "dr = widgets.Dropdown(\n",
    "    options=['1', '10', '100'],\n",
    "    value='1',\n",
    "    disabled=False, layout=Layout(width=\"50px\")\n",
    ")\n",
    "out = widgets.Output()\n",
    "\n",
    "class MCMC_Sampler():\n",
    "    def __init__(self, out):\n",
    "        np.random.seed(42)\n",
    "        self.out = out\n",
    "        self.samples = []\n",
    "        self.started = []\n",
    "        self.mu, self.sigma, self.fig, self.ax = None, None, None, None\n",
    "        with self.out:\n",
    "            self.init_plot(\"?\", \"?\", 0)\n",
    "            plt.show(self.fig)\n",
    "    def init_plot(self, mu, sigma, num_samples):\n",
    "        sbn.set()\n",
    "        self.fig, self.ax = plt.subplots(nrows=1, ncols=2, figsize=(10, 3))\n",
    "        self.ax[0].set_ylabel(r\"$\\theta$\")\n",
    "        self.ax[1].set_xlabel(r\"$\\theta$\")\n",
    "        self.ax[0].set_title(fr\"Aktuelle Proposal Distribution: $\\mu=${mu}, $\\sigma$={sigma}\")\n",
    "        self.ax[1].set_title(fr\"Histogram über {num_samples} Sample\")\n",
    "        plt.subplots_adjust(wspace=0.4)\n",
    "    \n",
    "    def reset(self, btnn):\n",
    "        self.started = False\n",
    "        mu_var.disabled = False\n",
    "        sigma_var.disabled = False\n",
    "        btn.description=\"Start\"\n",
    "        self.samples = []\n",
    "        self.mu, self.sigma = None, None\n",
    "        with self.out:\n",
    "            clear_output(wait=True)\n",
    "            self.init_plot(\"?\", \"?\", 0)\n",
    "            plt.show(self.fig) \n",
    "    \n",
    "    def init_step(self):\n",
    "        if self.mu is None:\n",
    "            self.mu = mu_var.value\n",
    "            self.sigma = sigma_var.value\n",
    "\n",
    "        num_samples = dr.value\n",
    "        btn.description=\"Next\"\n",
    "\n",
    "        if not self.started:\n",
    "            mu_var.disabled = True\n",
    "            sigma_var.disabled = True\n",
    "            self.started = False\n",
    "        return int(num_samples)\n",
    "    \n",
    "    def plot(self):\n",
    "        if len(self.samples)>0:     \n",
    "            self.ax[0].plot(np.arange(len(self.samples)), self.samples)\n",
    "            count, bins, ignored = self.ax[1].hist(self.samples, 30, density=False)\n",
    "            self.ax[0].plot(len(self.samples)-1, self.samples[-1], linestyle=\"none\", marker=\".\", markersize=5)\n",
    "            self.ax[0].set_title(fr\"Aktuelle Proposal Distribution: $\\mu=${'%.3f'%self.mu}, $\\sigma$={self.sigma}\")\n",
    "        else:\n",
    "            print(\"Noch keine Samples erzeugt.\")\n",
    "        clear_output(wait=True)\n",
    "        plt.show(self.fig) "
   ]
  },
  {
   "cell_type": "code",
   "execution_count": 5,
   "metadata": {
    "code_folding": []
   },
   "outputs": [],
   "source": [
    "%%add_to MCMC_Sampler\n",
    "def do_step(self, btn):       \n",
    "    num_samples = self.init_step()\n",
    "\n",
    "    with self.out:\n",
    "        self.init_plot(self.mu, self.sigma, len(self.samples)+num_samples)\n",
    "        \n",
    "        #for i in range(num_samples):\n",
    "            #self.samples  += ...\n",
    "            #self.mu = ...\n",
    "        \n",
    "        self.plot()        "
   ]
  },
  {
   "cell_type": "code",
   "execution_count": 6,
   "metadata": {
    "code_folding": [
     0
    ]
   },
   "outputs": [
    {
     "data": {
      "application/vnd.jupyter.widget-view+json": {
       "model_id": "5475e43d1b3a484da06c8f949ca86291",
       "version_major": 2,
       "version_minor": 0
      },
      "text/plain": [
       "HBox(children=(VBox(children=(Label(value='Mittelwert $\\\\mu$:'), FloatSlider(value=0.5, max=1.0), Label(value=…"
      ]
     },
     "metadata": {},
     "output_type": "display_data"
    }
   ],
   "source": [
    "# Starten der GUI [keine Änderung notwendig]\n",
    "MCMC_Sampler.do_step = do_step\n",
    "mcmc_sampler = MCMC_Sampler(out=out)\n",
    "btn.on_click(mcmc_sampler.do_step)\n",
    "btn2.on_click(mcmc_sampler.reset)\n",
    "widgets.HBox([widgets.VBox([mu_label, mu_var, sigma_label, sigma_var, widgets.HBox([widgets.VBox([btn, btn2]), widgets.VBox([dr_label, dr])])]), out]) "
   ]
  },
  {
   "cell_type": "markdown",
   "metadata": {
    "heading_collapsed": true
   },
   "source": [
    "###### <div class=\"alert alert-block alert-success\" style=\"background-color:#b6dad2;color:#179c80;border-color:white\"> <b>Lösung</b> <small style=\"color:#179c80\">(Klicken auf den Pfeil um die Lösung aufzuklappen)</small></span></div>"
   ]
  },
  {
   "cell_type": "code",
   "execution_count": null,
   "metadata": {
    "deletable": false,
    "editable": false,
    "hidden": true,
    "run_control": {
     "frozen": true
    }
   },
   "outputs": [],
   "source": [
    "%%add_to MCMC_Sampler\n",
    "def do_step(self, btn):       \n",
    "    num_samples = self.init_step()\n",
    "\n",
    "    with self.out:\n",
    "        self.init_plot(self.mu, self.sigma, len(self.samples)+num_samples)\n",
    "        \n",
    "        for i in range(int(num_samples)):\n",
    "            self.samples  += np.random.normal(self.mu, self.sigma, 1).tolist()\n",
    "            self.mu = self.samples[-1]\n",
    "        \n",
    "        self.plot()  "
   ]
  },
  {
   "cell_type": "markdown",
   "metadata": {},
   "source": [
    "#### \n",
    "<img src=\"./imgs/div.png\" width=\"100%\" /> "
   ]
  },
  {
   "cell_type": "markdown",
   "metadata": {},
   "source": [
    " \n",
    "## 1.4: Metropolis-Hastings Algorithmus\n",
    "\n",
    "Nach erfolgreichem Umsetzen des vorherigen Experiments fragen Sie sich vielleicht schon, wie man dieses Verfahren für die <span style=\"color:#179c80\"><b>Posterior</b> </span> Berechnung verwenden kann - denn das <span style=\"color:#db8642\">Akzeptieren</span> eines jeden Samples in jeder Iteration scheint nicht wirklich sinnvoll. Und genau hier besteht der Unterschied zum Metropolis-Hastings Algorithmus!\n",
    "\n",
    "<br>\n",
    "Um mit dem <span style=\"color:#179c80\"><b>Metropolis-Hastings</b> </span> Algorithmus eine sample-basierte Posterior Verteilung zu berechnen, müssen Samples mit einer <span style=\"color:#db8642\">Häufigkeit</span>, die im <span style=\"color:#db8642\">Verhältnis</span> zur Posterior-Verteilung steht, gezogen werden. D.h. für ein $\\theta$ mit einer hohen Posterior-Wahrscheinlichkeit wollen wir auch viele Samples nahe diesem Wert in unserem Sample-Pool. Doch wie ziehen wir Samples im richtigen Verhältnis von einer (normalerweise) <span style=\"color:#db8642\">nicht</span> analytisch berechenbaren Posterior? Der Schlüssel liegt hierbei im Wort <span style=\"color:#179c80\"><b>Verhältnis</b> </span>. Schauen wir uns einmal die grobe Funktionsweise des Algorithmus an:\n",
    "\n",
    "> 1. Ziehe ein Sample $\\theta_{\\text{neu}}$ von einer Proposal Distribution, z.B. eine Gaußverteilung mit $\\mu=\\theta_{\\text{alt}}$\n",
    "> 2. Berechne das Verhältnis r = $\\frac{\\text{posterior}(\\theta_{\\text{neu}})}{\\text{posterior}(\\theta_{\\text{alt}})}$\n",
    "> 3. Berechnung einer Aktzeptanz-Warscheinlichkeit von $\\theta_{\\text{neu}}$ basierend auf $r$.\n",
    "> 4. Abhängig von $r$ wird $\\theta_{\\text{neu}}$ entweder verworfen oder akzeptiert. Wird $\\theta_{\\text{neu}}$ verworfen, kehre zu 1. zurück. Falls $\\theta_{\\text{neu}}$ dem Sample-Pool hinzugefügt wird, setze $\\theta_{\\text{alt}}=\\theta_{\\text{neu}}$ und kehre zu 1. zurück.\n",
    "\n",
    "Was also den Metropolis-Hastings Algorithmus <span style=\"color:#db8642\">berechenbar</span> macht, ist die Verwendung des <span style=\"color:#179c80\"><b>Verhältnisses</b> </span> $r = \\frac{\\text{posterior}(\\theta_{\\text{neu}})}{\\text{posterior}(\\theta_{\\text{alt}})}$, da hierfür der <span style=\"color:#db8642\">konstante</span>, hoch-dimensionale <span style=\"color:#db8642\">Evidenz</span>-Term in der Posterior Berechnung vernachlässigt werden kann.\n",
    "\n",
    "\n",
    "\n",
    "<div class=\"alert alert-block alert-info\"  style=\"border-color:white\">\n",
    "    <b>Aufgabe</b>: Setzen Sie den MH-Algorithmus um. Hierfür implementieren Sie folgende Schritte in der nachfolgenden <em>do_step</em> Methode:\n",
    "    <ol>\n",
    "        <li>Iterieren Sie über <em>num_samples</em>.</li>\n",
    "        <li>Falls noch keine Samples in <em>self.samples</em> enthalten sind, ziehen Sie ein Sample von $\\mathcal{N}($ <em>self.mu</em>, <em>self.sigma</em> $)$ und fügen Sie es <em>self.samples</em> hinzu.</li>\n",
    "        <li>Falls <em>self.samples</em> bereits Elemente enthält:\n",
    "        <ol>\n",
    "            <li> Ziehen Sie ein Sample <em>candidate</em> von  $\\mathcal{N}($ <em>self.mu</em>, <em>self.sigma</em> $)$.</li>\n",
    "            <li> Weisen Sie dem letzten, dem Pool hinzugefügten Sample, den Namen  <em>last_sample</em> zu.</li> \n",
    "            <li> Berechnen Sie $r$, indem Sie den Posterior-Wert für <em>candidate</em> und <em>last_sample</em> mithilfe des Prior-Werts <em>beta.pdf(?, 1, 1)</em> und des Likelihood-Werts <em>binom.pmf(n=10, k=4, p=?)</em> berechnen.</li>\n",
    "            <li> Erstellen Sie eine Variable <em>acceptance_prob</em> mit dem Wert $\\text{minimum}(r, 1)$.</li>\n",
    "            <li> Ziehen Sie ein Sample <em>u</em> einer Uniform Verteilung zwischen $0$ und $1$.</li>\n",
    "            <li> Wenn <em>u</em> < <em>acceptance_prob</em>, dann akzeptieren wir <em>candidate</em>, d.h. Sie fügen ihn <em>self.samples</em> hinzu und setzen den Mittelwert der Proposal Verteilung auf den Wert <em>candidate</em>. Falls <em>u</em>>=<em>acceptance_prob</em>, endet die Iteration.</li>\n",
    "         </ol>\n",
    "        </li>\n",
    "    </ol>\n",
    "</div>\n",
    "\n",
    "\n",
    "\n",
    "<div class=\"alert alert-block alert-warning\" style=\"background-color:#f2decc\n",
    ";border-color:white\">\n",
    "    <b>Hilfreiche Funktionen</b>: \n",
    "    <ul>\n",
    "        <li> <em>np.random.normal(...)[0]</em> </li>\n",
    "    <li> <em>.tolist()</em></li>\n",
    "        <li> <em>self.samples[-1]</em></li>\n",
    "        <li> <em>beta.pdf(?, 1, 1)</em></li>\n",
    "        <li> <em>binom.pmf(n=10, k=4, p=?)</em></li>\n",
    "        <li> <em>min(a, b)</em></li>\n",
    "        <li> <em>np.random.uniform(...)[0]</em></li>\n",
    "    </ul>\n",
    "</div>\n",
    "\n",
    "<div class=\"alert alert-block alert-danger\" style=\"border-color:white\">\n",
    "    <b>Wichtig!</b>: Bei Änderungen der <em>do_step</em> Methode, führen Sie die <b>drei</b> nachfolgenden Zellen erneut aus. \n",
    "</div>"
   ]
  },
  {
   "cell_type": "code",
   "execution_count": 7,
   "metadata": {
    "code_folding": [
     0
    ]
   },
   "outputs": [],
   "source": [
    "# Definition der Grundklasse und GUI Elemente [keine Änderung notwendig]\n",
    "np.random.seed(42)\n",
    "mu_label = widgets.Label(value=\"$\\mu$ initial:\")\n",
    "mu_var = widgets.FloatSlider(value=0.3, min=0.2, max=0.6, step=0.1)\n",
    "sigma_label = widgets.Label(value=\"$\\sigma$ initial:\")\n",
    "sigma_var = widgets.FloatSlider(value=1, min=0.1, max=0.5, step=0.1)\n",
    "samples_label = widgets.Label(value=\"Anzahl Samples:\")\n",
    "samples_var = widgets.IntSlider(value=10, min=1, max=1000, step=20)\n",
    "btn = widgets.Button(description=\"Start\")\n",
    "btn2 = widgets.Button(description=\"Reset\")\n",
    "dr_label = widgets.Label(value=\"Samples pro Schritt\", width='10px')\n",
    "dr = widgets.Dropdown(\n",
    "    options=['1', '10', '100', '1000'],\n",
    "    value='1',\n",
    "    disabled=False, layout=Layout(width=\"50px\")\n",
    ")\n",
    "info_label = widgets.Label(value=\"Iterationen: 0 | Verworfen: 0 | Akzeptiert: 0\")\n",
    "out = widgets.Output()\n",
    "\n",
    "class MCMC_Sampler():\n",
    "    def __init__(self, out):\n",
    "        np.random.seed(42)\n",
    "        self.out = out\n",
    "        self.samples = []\n",
    "        self.iter = 0\n",
    "        self.all_samples = []\n",
    "        self.started = []\n",
    "        self.mu, self.sigma, self.fig, self.ax = None, None, None, None\n",
    "        with self.out:\n",
    "            self.init_plot(\"?\", \"?\", 0)\n",
    "            plt.show(self.fig)\n",
    "    def init_plot(self, mu, sigma, num_samples):\n",
    "        sbn.set()\n",
    "        self.fig, self.ax = plt.subplots(nrows=1, ncols=2, figsize=(10, 3))\n",
    "        self.ax[0].set_ylabel(r\"$\\theta$\")\n",
    "        self.ax[1].set_xlabel(r\"$\\theta$\")\n",
    "        self.ax[0].set_title(fr\"Aktuelle Proposal Distribution: $\\mu=$?, $\\sigma$=?\")\n",
    "        self.ax[1].set_title(fr\"Histogram über {num_samples} Samples\")\n",
    "        # plot posterior\n",
    "        xx = np.linspace(0, 1, 1000)\n",
    "        self.ax[1].plot(xx, beta.pdf(xx, 5, 7), label=\"Beta(5,7)\")\n",
    "        self.ax[1].legend()\n",
    "        self.ax[1].set_xlim([-0.1, 1.1])\n",
    "        plt.subplots_adjust(wspace=0.4)\n",
    "        return \n",
    "    \n",
    "    def reset(self, btnn):\n",
    "        self.started = False\n",
    "        mu_var.disabled = False\n",
    "        sigma_var.disabled = False\n",
    "        btn.description=\"Start\"\n",
    "        self.mu, self.sigma = None, None\n",
    "        self.samples = []\n",
    "        self.all_samples = []\n",
    "        info_label.value = \"Iterationen: 0 | Verworfen: 0 | Akzeptiert: 0\"\n",
    "        self.iter = 0\n",
    "        with self.out:\n",
    "            clear_output(wait=True)\n",
    "            self.init_plot(\"?\", \"?\", 0)\n",
    "            plt.show(self.fig)  \n",
    "    \n",
    "    def init_step(self):\n",
    "        if self.mu is None:\n",
    "            self.mu = mu_var.value\n",
    "            self.sigma = sigma_var.value\n",
    "\n",
    "        num_samples = dr.value\n",
    "        btn.description=\"Next\"\n",
    "\n",
    "        if not self.started:\n",
    "            mu_var.disabled = True\n",
    "            sigma_var.disabled = True\n",
    "            self.started = False\n",
    "        return int(num_samples)\n",
    "    \n",
    "    def plot(self):\n",
    "\n",
    "        if len(self.samples)>0:     \n",
    "            #self.ax[0].set_title(fr\"new= -,old= - \")\n",
    "            self.ax[1].set_title(fr\"Histogram über {len(self.samples)} Sample\")\n",
    "            self.ax[0].set_title(fr\"Aktuelle Proposal Distribution: $\\mu=${'%.3f'%self.mu}, $\\sigma$={self.sigma}\")\n",
    "\n",
    "            self.ax[0].plot(np.arange(len(self.all_samples)), self.all_samples)\n",
    "            count, bins, ignored = self.ax[1].hist(self.samples, 30, density=True, stacked=True)\n",
    "            info_label.value = f\"Iterationen: {self.iter} | Verworfen: {self.iter-len(self.samples)} | Akzeptiert: {len(self.samples)}\"\n",
    "            # finalize layout\n",
    "            #ax[0].plot([10 for _ in range(len(samples))], samples, linestyle=\"none\", marker=\".\", markersize=5)\n",
    "            self.ax[0].plot(len(self.all_samples)-1, self.all_samples[-1], linestyle=\"none\", marker=\".\", markersize=5)\n",
    "        else:\n",
    "            print(\"Noch keine Samples erzeugt.\")\n",
    "        clear_output(wait=True)\n",
    "        plt.show(self.fig) "
   ]
  },
  {
   "cell_type": "code",
   "execution_count": 8,
   "metadata": {
    "code_folding": []
   },
   "outputs": [],
   "source": [
    "%%add_to MCMC_Sampler\n",
    "def do_step(self, btn):       \n",
    "    num_samples = self.init_step()\n",
    "\n",
    "    with self.out:\n",
    "        self.init_plot(self.mu, self.sigma, len(self.samples))\n",
    "        self.iter += int(num_samples)\n",
    "\n",
    "        for _ in range(int(num_samples)):\n",
    "            if len(self.samples) == 0:\n",
    "                # candidate  = ...                  \n",
    "                # self.samples += ...\n",
    "                # self.all_samples += [candidate] # Kommentieren Sie diese Zeile ebenfalls aus\n",
    "                pass\n",
    "            else:\n",
    "                #candidate = ...\n",
    "                #last_sample = ...\n",
    "\n",
    "                #post_new = ...\n",
    "                #post_old = ...\n",
    "\n",
    "                #ratio = ...\n",
    "                #acceptance_prob = ...\n",
    "                #u = ...\n",
    "\n",
    "                #if u < acceptance_prob:\n",
    "                    #self.samples +=\n",
    "                #self.all_samples += [candidate] # Kommentieren Sie diese Zeile ebenfalls aus\n",
    "                pass\n",
    "                \n",
    "            #self.mu = ...\n",
    "            \n",
    "        self.plot()"
   ]
  },
  {
   "cell_type": "code",
   "execution_count": 9,
   "metadata": {
    "code_folding": [
     0
    ]
   },
   "outputs": [
    {
     "data": {
      "application/vnd.jupyter.widget-view+json": {
       "model_id": "d3ba9c9af3d24a90a68b2ecd85c3c3e5",
       "version_major": 2,
       "version_minor": 0
      },
      "text/plain": [
       "HBox(children=(VBox(children=(Label(value='$\\\\mu$ initial:'), FloatSlider(value=0.3, max=0.6, min=0.2), Label(…"
      ]
     },
     "metadata": {},
     "output_type": "display_data"
    }
   ],
   "source": [
    "# Starten der GUI [keine Änderung notwendig]\n",
    "MCMC_Sampler.do_step = do_step\n",
    "mcmc_sampler = MCMC_Sampler(out=out)\n",
    "btn.on_click(mcmc_sampler.do_step)\n",
    "btn2.on_click(mcmc_sampler.reset)\n",
    "widgets.HBox([widgets.VBox([mu_label, mu_var, sigma_label, sigma_var, widgets.HBox([widgets.VBox([btn, btn2]), widgets.VBox([dr_label, dr])]), info_label]), out])"
   ]
  },
  {
   "cell_type": "markdown",
   "metadata": {
    "heading_collapsed": true
   },
   "source": [
    "###### <div class=\"alert alert-block alert-success\" style=\"background-color:#b6dad2;color:#179c80;border-color:white\"> <b>Lösung</b> <small style=\"color:#179c80\">(Klicken auf den Pfeil um die Lösung aufzuklappen)</small></span></div>"
   ]
  },
  {
   "cell_type": "code",
   "execution_count": null,
   "metadata": {
    "code_folding": [],
    "deletable": false,
    "editable": false,
    "hidden": true,
    "run_control": {
     "frozen": true
    }
   },
   "outputs": [],
   "source": [
    "%%add_to MCMC_Sampler\n",
    "def do_step(self, btn):       \n",
    "    num_samples = self.init_step()\n",
    "\n",
    "\n",
    "    with self.out:\n",
    "        self.init_plot(self.mu, self.sigma, len(self.samples))\n",
    "        self.iter += int(num_samples)\n",
    "\n",
    "        for _ in range(int(num_samples)):\n",
    "            if len(self.samples) == 0:\n",
    "                    candidate  = np.random.normal(self.mu, self.sigma, 1)[0]\n",
    "                    #post_new = beta.pdf(candidate, 1, 1)*binom.pmf(n=10, k=4, p=candidate) \n",
    "                    #while np.isnan(post_new):\n",
    "                        #candidate  = np.random.normal(self.mu, self.sigma, 1)[0]\n",
    "                        #post_new = beta.pdf(candidate, 1, 1)*binom.pmf(n=10, k=4, p=candidate)\n",
    "                    self.samples += [candidate]\n",
    "                    self.all_samples += [candidate]\n",
    "            else:\n",
    "                candidate = np.random.normal(self.mu, self.sigma, 1)[0]\n",
    "                last_sample = self.samples[-1]\n",
    "\n",
    "                post_new = beta.pdf(candidate, 1, 1)*binom.pmf(n=10, k=4, p=candidate) \n",
    "                post_old = beta.pdf(last_sample, 1, 1)*binom.pmf(n=10, k=4, p=last_sample)\n",
    "\n",
    "                ratio = post_new / post_old\n",
    "                acceptance_prob = min(ratio, 1)\n",
    "                u = np.random.uniform(low=0, high=1, size=1)[0]\n",
    "\n",
    "                if u < acceptance_prob:\n",
    "                    self.samples += [candidate]\n",
    "                self.all_samples += [candidate]\n",
    "\n",
    "\n",
    "            self.mu = self.samples[-1]\n",
    "            \n",
    "        self.plot()"
   ]
  },
  {
   "cell_type": "markdown",
   "metadata": {},
   "source": [
    "#### \n",
    "<img src=\"./imgs/div.png\" width=\"100%\" /> "
   ]
  },
  {
   "cell_type": "markdown",
   "metadata": {},
   "source": [
    "  \n",
    "## 1.5 MCMC und Neuronale Netze\n",
    "Selbes Prinzip kann nun für Neuronale Netze angewendet werden. Hierfür werden die <span style=\"color:#179c80\"><b>Gewichte</b> </span> als Verteilungen betrachtet, von welchen über <span style=\"color:#179c80\"><b>MCMC</b> </span> eine <span style=\"color:#db8642\">sample-basierte</span> Posterior Repräsentation abgeleitet wird. Mithilfe dieser Verteilungen können Unsicherheitsangaben über Gewichte getroffen werden (z.B. mittels Varianz in den Samples).\n",
    "\n",
    "Für eine Modellvorhersage wird jeweils pro Gewichtsverteilung ein Sample gezogen und mit dieser Punktschätzung eine Vorhersage berechnet.  Dies geschiet <span style=\"color:#db8642\">T</span> mal, wodurch man über die Ausgaben ebenfalls eine <span style=\"color:#db8642\">Verteilung</span>  bilden kann.\n",
    "<img src=\"./imgs/mcmcc.png\" width=100%>"
   ]
  }
 ],
 "metadata": {
  "kernelspec": {
   "display_name": "Python 3 (ipykernel)",
   "language": "python",
   "name": "python3"
  },
  "language_info": {
   "codemirror_mode": {
    "name": "ipython",
    "version": 3
   },
   "file_extension": ".py",
   "mimetype": "text/x-python",
   "name": "python",
   "nbconvert_exporter": "python",
   "pygments_lexer": "ipython3",
   "version": "3.9.7"
  }
 },
 "nbformat": 4,
 "nbformat_minor": 4
}
